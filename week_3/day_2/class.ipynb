{
 "cells": [
  {
   "cell_type": "code",
   "execution_count": 8,
   "metadata": {},
   "outputs": [
    {
     "name": "stdout",
     "output_type": "stream",
     "text": [
      "Car with regNo 6782983 is blue in color and has diesel engine type. \n",
      "Fuel: 0\n",
      "blue\n",
      "Car with regNo 6782983 is blue in color and has diesel engine type. \n",
      "Fuel: 10\n",
      "Car with regNo 2983 is red in color and has petrol engine type. \n",
      "Fuel: 0\n"
     ]
    }
   ],
   "source": [
    "class Car:\n",
    "    def __init__(self, regNo, color, engineType):\n",
    "        self.regNo = regNo\n",
    "        self.color = color\n",
    "        self.engineType = engineType\n",
    "        self.fuel=0\n",
    "\n",
    "    def refuel(self,amount):\n",
    "        self.fuel += amount\n",
    "\n",
    "    def __str__(self): #dunder methods\n",
    "        return f\"Car with regNo {self.regNo} is {self.color} in color and has {self.engineType} engine type. \\nFuel: {self.fuel}\"\n",
    "\n",
    "myCar=Car('6782983','blue','diesel')\n",
    "mycar2=Car('2983','red','petrol')\n",
    "print(myCar)\n",
    "\n",
    "print(myCar.color)\n",
    "myCar.refuel(10)\n",
    "\n",
    "print(myCar)\n",
    "\n",
    "print(mycar2)"
   ]
  },
  {
   "cell_type": "code",
   "execution_count": null,
   "metadata": {},
   "outputs": [],
   "source": []
  }
 ],
 "metadata": {
  "kernelspec": {
   "display_name": "Python 3",
   "language": "python",
   "name": "python3"
  },
  "language_info": {
   "codemirror_mode": {
    "name": "ipython",
    "version": 3
   },
   "file_extension": ".py",
   "mimetype": "text/x-python",
   "name": "python",
   "nbconvert_exporter": "python",
   "pygments_lexer": "ipython3",
   "version": "3.10.12"
  },
  "orig_nbformat": 4
 },
 "nbformat": 4,
 "nbformat_minor": 2
}
