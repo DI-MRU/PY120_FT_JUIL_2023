{
 "cells": [
  {
   "cell_type": "code",
   "execution_count": 6,
   "metadata": {},
   "outputs": [
    {
     "name": "stdout",
     "output_type": "stream",
     "text": [
      "<__main__.Car object at 0x10707e050>\n",
      "<__main__.Car object at 0x10707e050>\n"
     ]
    }
   ],
   "source": [
    "class Vehicle:\n",
    "    def __init__(self,regNo,color,make,model):\n",
    "        self.regNo = regNo\n",
    "        self.color = color\n",
    "        self.make = make\n",
    "        self.model = model\n",
    "    \n",
    "    def changeRegNo(self,regNo):\n",
    "        self.regNo = regNo\n",
    "    \n",
    "    def repaint(self,color):\n",
    "        self.color = color\n",
    "\n",
    "    def __str__(self):\n",
    "        return f\"Reg No: {self.regNo}, Color: {self.color}, Make: {self.make}, Model: {self.model}\"\n",
    "    \n",
    "\n",
    "class Car(Vehicle):\n",
    "    def __init__(self,regNo,color,make,model, engineType, horsepower, airbags):\n",
    "        Vehicle.__init__(self,regNo,color,make,model)\n",
    "\n",
    "        self.engineType = engineType\n",
    "        self.horsepower = horsepower\n",
    "        self.airbags = airbags\n",
    "\n",
    "\n",
    "# vehicle1=Vehicle(\"ABC-123\",\"Red\",\"Toyota\",\"Corolla\")\n",
    "# print(vehicle1)\n",
    "\n",
    "myCar=Car(\"ABC-123\",\"Red\",\"Toyota\",\"Corolla\",\"Petrol\", 200, True)\n",
    "\n",
    "print(myCar)\n",
    "myCar.repaint(\"Blue\")\n",
    "print(str(myCar))"
   ]
  },
  {
   "cell_type": "code",
   "execution_count": 7,
   "metadata": {},
   "outputs": [
    {
     "name": "stdout",
     "output_type": "stream",
     "text": [
      "Reg No: ABC-123, Color: Red, Make: Toyota, Model: Corolla Battery Capacity: 100\n"
     ]
    }
   ],
   "source": [
    "class ElectriCar(Car):\n",
    "    def __init__(self,regNo,color,make,model, engineType, horsepower, airbags, batteryCapacity):\n",
    "        Car.__init__(self,regNo,color,make,model, engineType, horsepower, airbags)\n",
    "        self.batteryCapacity = batteryCapacity\n",
    "\n",
    "    def info(self):\n",
    "        print(f'Reg No: {self.regNo}, Color: {self.color}, Make: {self.make}, Model: {self.model} Battery Capacity: {self.batteryCapacity}')\n",
    "\n",
    "\n",
    "\n",
    "ec=ElectriCar(\"ABC-123\",\"Red\",\"Toyota\",\"Corolla\",\"Petrol\", 200, True, 100)\n",
    "ec.info()"
   ]
  },
  {
   "cell_type": "code",
   "execution_count": 8,
   "metadata": {},
   "outputs": [
    {
     "name": "stdout",
     "output_type": "stream",
     "text": [
      "3\n"
     ]
    }
   ],
   "source": [
    "def sum(num1,num2):\n",
    "    return num1+num2\n",
    "\n",
    "\n",
    "print(sum(1,2))\n"
   ]
  },
  {
   "cell_type": "code",
   "execution_count": 11,
   "metadata": {},
   "outputs": [
    {
     "name": "stdout",
     "output_type": "stream",
     "text": [
      "55\n"
     ]
    }
   ],
   "source": [
    "def sum(*nums):\n",
    "    total=0\n",
    "    for num in nums:\n",
    "        total+=num\n",
    "    return total\n",
    "\n",
    "print(sum(1,2,3,4,5,6,7,8,9,10))"
   ]
  },
  {
   "cell_type": "code",
   "execution_count": 14,
   "metadata": {},
   "outputs": [
    {
     "name": "stdout",
     "output_type": "stream",
     "text": [
      "english: 80\n",
      "maths: 90\n",
      "science: 70\n",
      "80.0\n"
     ]
    }
   ],
   "source": [
    "def average_marks(**marks):\n",
    "    total=0\n",
    "\n",
    "    for key,value in marks.items():\n",
    "        print(f'{key}: {value}')\n",
    "        total+=value\n",
    "    return total/len(marks)\n",
    "\n",
    "avg=average_marks(english=80,maths=90,science=70)\n",
    "print(avg)"
   ]
  },
  {
   "cell_type": "code",
   "execution_count": 16,
   "metadata": {},
   "outputs": [
    {
     "name": "stdout",
     "output_type": "stream",
     "text": [
      "name1: english\n",
      "name2: french\n",
      "name3: maths\n",
      "60\n"
     ]
    }
   ],
   "source": [
    "def sum(*nums, **names):\n",
    "    total=0\n",
    "    for key,value in names.items():\n",
    "        print(f'{key}: {value}')\n",
    "\n",
    "    total=0\n",
    "    for num in nums:\n",
    "        total+=num\n",
    "    return total\n",
    "\n",
    "\n",
    "print( sum(10,20,30,name1='english',name2='french',name3='maths') )"
   ]
  },
  {
   "cell_type": "code",
   "execution_count": 26,
   "metadata": {},
   "outputs": [
    {
     "name": "stdout",
     "output_type": "stream",
     "text": [
      "its accesible\n"
     ]
    },
    {
     "ename": "AttributeError",
     "evalue": "'Person' object has no attribute '__test2'",
     "output_type": "error",
     "traceback": [
      "\u001b[0;31m---------------------------------------------------------------------------\u001b[0m",
      "\u001b[0;31mAttributeError\u001b[0m                            Traceback (most recent call last)",
      "Cell \u001b[0;32mIn[26], line 29\u001b[0m\n\u001b[1;32m     27\u001b[0m \u001b[39m# tom.__sex=\"Female\"\u001b[39;00m\n\u001b[1;32m     28\u001b[0m tom\u001b[39m.\u001b[39mchangeSex(\u001b[39m\"\u001b[39m\u001b[39mFemale\u001b[39m\u001b[39m\"\u001b[39m)\n\u001b[0;32m---> 29\u001b[0m tom\u001b[39m.\u001b[39;49m__test2()\n\u001b[1;32m     30\u001b[0m \u001b[39mprint\u001b[39m(tom)\n",
      "\u001b[0;31mAttributeError\u001b[0m: 'Person' object has no attribute '__test2'"
     ]
    }
   ],
   "source": [
    "#encapsulation\n",
    "\n",
    "#class\n",
    "class Person:\n",
    "    def __init__(self,name,age,sex):\n",
    "        self.name=name\n",
    "        self.age=age #public attribute\n",
    "        self.__sex=sex #public attribute\n",
    "\n",
    "    def test(self):\n",
    "        print('its accesible')\n",
    "\n",
    "    def changeSex(self,newSex):\n",
    "        self.__sex=newSex\n",
    "\n",
    "    def __test2(self):\n",
    "        print('its not accesible')\n",
    "\n",
    "   \n",
    "    def __str__(self):\n",
    "        return f'{self.name} is {self.age} years old. Sex: {self.__sex}'\n",
    "\n",
    "#main program\n",
    "tom=Person(\"Tom\",20,\"Male\")\n",
    "tom.test()\n",
    "tom.age=1000\n",
    "# tom.__sex=\"Female\"\n",
    "tom.changeSex(\"Female\")\n",
    "tom.__test2()\n",
    "print(tom)"
   ]
  },
  {
   "cell_type": "code",
   "execution_count": 33,
   "metadata": {},
   "outputs": [
    {
     "name": "stdout",
     "output_type": "stream",
     "text": [
      "ABC-123\n",
      "dwejnjdfwm\n"
     ]
    }
   ],
   "source": [
    "class Vehicle:\n",
    "    def __init__(self,regNo):\n",
    "        self._regNo = regNo\n",
    "\n",
    "\n",
    "class Car(Vehicle):\n",
    "    def __init__(self,regNo,engineType):\n",
    "        Vehicle.__init__(self,regNo)\n",
    "        self.engineType = engineType\n",
    "    \n",
    "    def changeRegNo(self,regNo):\n",
    "        self._regNo = regNo\n",
    "\n",
    "mycar=Car(\"ABC-123\",\"Petrol\")\n",
    "print(mycar._regNo)\n",
    "mycar.changeRegNo(\"XYZ-123\")\n",
    "\n",
    "print(mycar._regNo)\n",
    "\n"
   ]
  }
 ],
 "metadata": {
  "kernelspec": {
   "display_name": "Python 3",
   "language": "python",
   "name": "python3"
  },
  "language_info": {
   "codemirror_mode": {
    "name": "ipython",
    "version": 3
   },
   "file_extension": ".py",
   "mimetype": "text/x-python",
   "name": "python",
   "nbconvert_exporter": "python",
   "pygments_lexer": "ipython3",
   "version": "3.10.12"
  },
  "orig_nbformat": 4
 },
 "nbformat": 4,
 "nbformat_minor": 2
}
