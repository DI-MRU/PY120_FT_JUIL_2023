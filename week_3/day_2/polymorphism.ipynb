{
 "cells": [
  {
   "cell_type": "code",
   "execution_count": 3,
   "metadata": {},
   "outputs": [
    {
     "name": "stdout",
     "output_type": "stream",
     "text": [
      "Car with regno KA01MG8745 has 10 liters of fuel\n",
      "Car with regno KA01MG8745 has 20 liters of fuel\n"
     ]
    }
   ],
   "source": [
    "class Car:\n",
    "    def __init__(self,regno,fuel):\n",
    "        self.regno = regno\n",
    "        self.fuel = fuel\n",
    "\n",
    "    def refuel(self,amount):\n",
    "        self.fuel+=amount\n",
    "\n",
    "    def __str__(self):\n",
    "        return f\"Car with regno {self.regno} has {self.fuel} liters of fuel\"\n",
    "\n",
    "\n",
    "myCar=Car(\"KA01MG8745\",10)\n",
    "print(myCar)\n",
    "myCar.refuel(10)\n",
    "print(myCar)"
   ]
  },
  {
   "cell_type": "code",
   "execution_count": 10,
   "metadata": {},
   "outputs": [
    {
     "name": "stdout",
     "output_type": "stream",
     "text": [
      "Hybrid Car with regno KA01MG8745 has 10 liters of fuel and 50 charge\n",
      "Hybrid Car with regno KA01MG8745 has 20 liters of fuel and 60 charge\n"
     ]
    }
   ],
   "source": [
    "class HybridCar(Car):\n",
    "    def __init__(self,regno,fuel,charge):\n",
    "        Car.__init__(self,regno,fuel)\n",
    "        self.charge = charge\n",
    "    \n",
    "    def refuel(self,amount_fuel,amount_charge):\n",
    "        Car.refuel(self,amount_fuel)\n",
    "        self.charge+=10\n",
    "\n",
    "    def __str__(self):\n",
    "        return f\"Hybrid Car with regno {self.regno} has {self.fuel} liters of fuel and {self.charge} charge\"\n",
    "\n",
    "myhybridcar=HybridCar(\"KA01MG8745\",10,50)\n",
    "print(myhybridcar)\n",
    "\n",
    "myhybridcar.refuel(10,10)\n",
    "print(myhybridcar)"
   ]
  },
  {
   "cell_type": "code",
   "execution_count": 11,
   "metadata": {},
   "outputs": [
    {
     "name": "stdout",
     "output_type": "stream",
     "text": [
      "60000\n"
     ]
    }
   ],
   "source": [
    "#interface\n",
    "class Librarian:\n",
    "    def __init__(self,name,salary):\n",
    "        self.name = name\n",
    "        self.salary = salary\n",
    "\n",
    "\n",
    "class Lecturer:\n",
    "    def __init__(self,name,salary):\n",
    "        self.name = name\n",
    "        self.salary = salary\n",
    "\n",
    "class Staff:\n",
    "    def __init__(self,name,salary):\n",
    "        self.name = name\n",
    "        self.salary = salary\n",
    "\n",
    "\n",
    "def payroll(*persons):\n",
    "    total=0\n",
    "    for person in persons:\n",
    "        total+=person.salary\n",
    "    print(total)\n",
    "\n",
    "\n",
    "lib1=Librarian(\"John\",10000)\n",
    "lec1=Lecturer(\"Jane\",20000)\n",
    "staff1=Staff(\"Jack\",30000)\n",
    "\n",
    "\n",
    "\n",
    "payroll(lib1,lec1,staff1)\n",
    "\n"
   ]
  }
 ],
 "metadata": {
  "kernelspec": {
   "display_name": "Python 3",
   "language": "python",
   "name": "python3"
  },
  "language_info": {
   "codemirror_mode": {
    "name": "ipython",
    "version": 3
   },
   "file_extension": ".py",
   "mimetype": "text/x-python",
   "name": "python",
   "nbconvert_exporter": "python",
   "pygments_lexer": "ipython3",
   "version": "3.10.12"
  },
  "orig_nbformat": 4
 },
 "nbformat": 4,
 "nbformat_minor": 2
}
