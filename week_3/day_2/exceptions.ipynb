{
 "cells": [
  {
   "cell_type": "code",
   "execution_count": 1,
   "metadata": {},
   "outputs": [
    {
     "name": "stdout",
     "output_type": "stream",
     "text": [
      "code starts\n"
     ]
    },
    {
     "ename": "ZeroDivisionError",
     "evalue": "division by zero",
     "output_type": "error",
     "traceback": [
      "\u001b[0;31m---------------------------------------------------------------------------\u001b[0m",
      "\u001b[0;31mZeroDivisionError\u001b[0m                         Traceback (most recent call last)",
      "Cell \u001b[0;32mIn[1], line 2\u001b[0m\n\u001b[1;32m      1\u001b[0m \u001b[39mprint\u001b[39m(\u001b[39m'\u001b[39m\u001b[39mcode starts\u001b[39m\u001b[39m'\u001b[39m)\n\u001b[0;32m----> 2\u001b[0m \u001b[39mprint\u001b[39m(\u001b[39m10\u001b[39;49m\u001b[39m/\u001b[39;49m\u001b[39m0\u001b[39;49m)\n\u001b[1;32m      3\u001b[0m \u001b[39mprint\u001b[39m(\u001b[39m'\u001b[39m\u001b[39mcode continues to run\u001b[39m\u001b[39m'\u001b[39m)\n",
      "\u001b[0;31mZeroDivisionError\u001b[0m: division by zero"
     ]
    }
   ],
   "source": [
    "#exception\n",
    "print('code starts')\n",
    "print(10/0)\n",
    "print('code continues to run')"
   ]
  },
  {
   "cell_type": "code",
   "execution_count": 3,
   "metadata": {},
   "outputs": [
    {
     "name": "stdout",
     "output_type": "stream",
     "text": [
      "code starts\n",
      "an error has occured\n",
      "code continues to run\n"
     ]
    }
   ],
   "source": [
    "#handling exception\n",
    "print('code starts')\n",
    "try:\n",
    "    print(10/0)\n",
    "    print('test')\n",
    "except:\n",
    "    print(\"an error has occured\")\n",
    "\n",
    "print('code continues to run')"
   ]
  },
  {
   "cell_type": "code",
   "execution_count": 4,
   "metadata": {},
   "outputs": [
    {
     "name": "stdout",
     "output_type": "stream",
     "text": [
      "code starts\n",
      "10.0\n",
      "test\n",
      "code continues to run\n"
     ]
    }
   ],
   "source": [
    "#no error\n",
    "print('code starts')\n",
    "try:\n",
    "    print(10/1)\n",
    "    print('test')\n",
    "except:\n",
    "    print(\"an error has occured\")\n",
    "\n",
    "print('code continues to run')"
   ]
  },
  {
   "cell_type": "code",
   "execution_count": 5,
   "metadata": {},
   "outputs": [
    {
     "name": "stdout",
     "output_type": "stream",
     "text": [
      "code starts\n",
      "an error has occured:  division by zero\n",
      "code continues to run\n"
     ]
    }
   ],
   "source": [
    "#handling exception generally\n",
    "print('code starts')\n",
    "try:\n",
    "    print(10/0)\n",
    "    print('test')\n",
    "except Exception as e:\n",
    "    print(\"an error has occured: \", e)\n",
    "\n",
    "print('code continues to run')"
   ]
  },
  {
   "cell_type": "code",
   "execution_count": 7,
   "metadata": {},
   "outputs": [
    {
     "name": "stdout",
     "output_type": "stream",
     "text": [
      "code starts\n",
      "custom error\n",
      "code continues to run\n"
     ]
    }
   ],
   "source": [
    "#handling specfic exception\n",
    "print('code starts')\n",
    "try:\n",
    "    print(10/0)\n",
    "    print('test')\n",
    "    \n",
    "except ZeroDivisionError as e:\n",
    "    print(\"custom error\")\n",
    "\n",
    "except Exception as e:\n",
    "    print(\"an error has occured: \", e)\n",
    "\n",
    "print('code continues to run')"
   ]
  },
  {
   "cell_type": "code",
   "execution_count": 9,
   "metadata": {},
   "outputs": [
    {
     "name": "stdout",
     "output_type": "stream",
     "text": [
      "code starts\n",
      "10.0\n",
      "no error\n",
      "code continues to run\n"
     ]
    }
   ],
   "source": [
    "#handling exception - no errors\n",
    "print('code starts')\n",
    "try:\n",
    "    print(10/1)\n",
    "except:\n",
    "    print(\"an error has occured\")\n",
    "else:\n",
    "    print(\"no error\")\n",
    "\n",
    "\n",
    "print('code continues to run')"
   ]
  },
  {
   "cell_type": "code",
   "execution_count": 11,
   "metadata": {},
   "outputs": [
    {
     "name": "stdout",
     "output_type": "stream",
     "text": [
      "code starts\n",
      "an error has occured\n",
      "operation completed\n",
      "code continues to run\n"
     ]
    }
   ],
   "source": [
    "#handling exception\n",
    "print('code starts')\n",
    "try:\n",
    "    print(10/0)\n",
    "except:\n",
    "    print(\"an error has occured\")\n",
    "else:\n",
    "    print(\"no error\")\n",
    "\n",
    "finally:\n",
    "    print(\"operation completed\")\n",
    "\n",
    "\n",
    "print('code continues to run')"
   ]
  },
  {
   "cell_type": "code",
   "execution_count": 14,
   "metadata": {},
   "outputs": [
    {
     "ename": "Exception",
     "evalue": "a is 1",
     "output_type": "error",
     "traceback": [
      "\u001b[0;31m---------------------------------------------------------------------------\u001b[0m",
      "\u001b[0;31mException\u001b[0m                                 Traceback (most recent call last)",
      "Cell \u001b[0;32mIn[14], line 4\u001b[0m\n\u001b[1;32m      1\u001b[0m a\u001b[39m=\u001b[39m\u001b[39m1\u001b[39m\n\u001b[1;32m      3\u001b[0m \u001b[39mif\u001b[39;00m (a\u001b[39m==\u001b[39m\u001b[39m1\u001b[39m):\n\u001b[0;32m----> 4\u001b[0m     \u001b[39mraise\u001b[39;00m \u001b[39mException\u001b[39;00m(\u001b[39m\"\u001b[39m\u001b[39ma is 1\u001b[39m\u001b[39m\"\u001b[39m)\n\u001b[1;32m      6\u001b[0m \u001b[39mprint\u001b[39m(\u001b[39m'\u001b[39m\u001b[39mprog works\u001b[39m\u001b[39m'\u001b[39m)\n",
      "\u001b[0;31mException\u001b[0m: a is 1"
     ]
    }
   ],
   "source": [
    "#create custom exception\n",
    "a=1\n",
    "\n",
    "if (a==1):\n",
    "    raise Exception(\"a is 1\")\n",
    "\n",
    "print('prog works')"
   ]
  },
  {
   "cell_type": "code",
   "execution_count": 22,
   "metadata": {},
   "outputs": [
    {
     "name": "stdout",
     "output_type": "stream",
     "text": [
      "4\n"
     ]
    }
   ],
   "source": [
    "import random\n",
    "\n",
    "print(random.choice([1,2,3,4]))"
   ]
  }
 ],
 "metadata": {
  "kernelspec": {
   "display_name": "Python 3",
   "language": "python",
   "name": "python3"
  },
  "language_info": {
   "codemirror_mode": {
    "name": "ipython",
    "version": 3
   },
   "file_extension": ".py",
   "mimetype": "text/x-python",
   "name": "python",
   "nbconvert_exporter": "python",
   "pygments_lexer": "ipython3",
   "version": "3.10.12"
  },
  "orig_nbformat": 4
 },
 "nbformat": 4,
 "nbformat_minor": 2
}
