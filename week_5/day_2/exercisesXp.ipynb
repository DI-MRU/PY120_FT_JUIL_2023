{
 "cells": [
  {
   "cell_type": "markdown",
   "metadata": {},
   "source": [
    "### Exercise 1"
   ]
  },
  {
   "cell_type": "code",
   "execution_count": 31,
   "metadata": {},
   "outputs": [
    {
     "name": "stdout",
     "output_type": "stream",
     "text": [
      "Unique : 50\n"
     ]
    }
   ],
   "source": [
    "import pandas as pd\n",
    "\n",
    "url = 'https://raw.githubusercontent.com/justmarkham/DAT8/master/data/chipotle.tsv'\n",
    "chipo = pd.read_csv(url, sep ='\\t')\n",
    "\n",
    "# print(chipo.head(10))\n",
    "\n",
    "# print(f'Total entries :', chipo.shape[0])\n",
    "\n",
    "# print(f'Total number of columns:',chipo.shape[1])\n",
    "\n",
    "# print(f'columns name:', chipo.columns)\n",
    "\n",
    "# print('Index information : ',chipo.index)\n",
    "\n",
    "# val = chipo['item_name'].value_counts().idxmax()\n",
    "# print(val)\n",
    "\n",
    "# quan = chipo['quantity'].sum()\n",
    "# print(' total number of items ordered: ', quan)\n",
    "\n",
    "# val_choice = chipo['choice_description'].value_counts().idxmax()\n",
    "# print(val_choice)\n",
    "\n",
    "# convert = chipo['item_price'].apply(lambda x: float(x[1:]))\n",
    "\n",
    "# sums = convert.sum()\n",
    "# print('total revenue :',sums)\n",
    "\n",
    "# solo = chipo['order_id'].nunique()\n",
    "# print('total number of orders :', solo)\n",
    "\n",
    "# avg = sums / quan\n",
    "# print('Average : ',avg)\n",
    "\n",
    "# nun = chipo['item_name'].nunique()\n",
    "# print(\"Unique :\", nun)\n"
   ]
  },
  {
   "cell_type": "markdown",
   "metadata": {},
   "source": [
    "### Exercise 2"
   ]
  },
  {
   "cell_type": "code",
   "execution_count": 33,
   "metadata": {},
   "outputs": [
    {
     "name": "stdout",
     "output_type": "stream",
     "text": [
      "1130\n"
     ]
    }
   ],
   "source": [
    "# moneyMore = chipo[convert > 10]\n",
    "# count = moneyMore.shape[0]\n",
    "# print(count)\n"
   ]
  },
  {
   "cell_type": "markdown",
   "metadata": {},
   "source": [
    "### Exercise 3\n"
   ]
  },
  {
   "cell_type": "code",
   "execution_count": 35,
   "metadata": {},
   "outputs": [
    {
     "name": "stdout",
     "output_type": "stream",
     "text": [
      "Mean age by occupation: \n",
      " occupation\n",
      "administrator    38.746835\n",
      "artist           31.392857\n",
      "doctor           43.571429\n",
      "educator         42.010526\n",
      "engineer         36.388060\n",
      "entertainment    29.222222\n",
      "executive        38.718750\n",
      "healthcare       41.562500\n",
      "homemaker        32.571429\n",
      "lawyer           36.750000\n",
      "librarian        40.000000\n",
      "marketing        37.615385\n",
      "none             26.555556\n",
      "other            34.523810\n",
      "programmer       33.121212\n",
      "retired          63.071429\n",
      "salesman         35.666667\n",
      "scientist        35.548387\n",
      "student          22.081633\n",
      "technician       33.148148\n",
      "writer           36.311111\n",
      "Name: age, dtype: float64\n"
     ]
    }
   ],
   "source": [
    "user_url = 'https://raw.githubusercontent.com/justmarkham/DAT8/master/data/u.user'\n",
    "users =pd.read_csv(user_url, sep='|')\n",
    "\n",
    "mean_age = users.groupby('occupation')['age'].mean()\n",
    "print('Mean age by occupation: \\n',mean_age)"
   ]
  },
  {
   "cell_type": "markdown",
   "metadata": {},
   "source": [
    "### Exercise 4"
   ]
  },
  {
   "cell_type": "code",
   "execution_count": 42,
   "metadata": {},
   "outputs": [
    {
     "name": "stdout",
     "output_type": "stream",
     "text": [
      "   subject_id  sub_name\n",
      "0           1     Maths\n",
      "1           2   English\n",
      "2           3    French\n",
      "0           4  Accounts\n",
      "1           5  Business\n",
      "2           6  Computer\n",
      "   subject_id sub_name  subject_id  sub_name\n",
      "0           1    Maths           4  Accounts\n",
      "1           2  English           5  Business\n",
      "2           3   French           6  Computer\n"
     ]
    }
   ],
   "source": [
    "data1 =pd.DataFrame({ \n",
    "    'subject_id': [1,2,3],\n",
    "    'sub_name':['Maths','English','French']\n",
    "})\n",
    "data2 =pd.DataFrame({ \n",
    "    'subject_id': [4,5,6],\n",
    "    'sub_name':['Accounts','Business','Computer']\n",
    "})\n",
    "data3 =pd.DataFrame({ \n",
    "    'subject_id': [7,8,9],\n",
    "    'sub_name':['Marine','Biology','Literature']\n",
    "})\n",
    "\n",
    "Merge = pd.concat([data1,data2])\n",
    "print(Merge)\n",
    "\n",
    "Merge_col = pd.concat([data1,data2], axis=1)\n",
    "print(Merge_col)\n"
   ]
  },
  {
   "cell_type": "markdown",
   "metadata": {},
   "source": [
    "### Exercise 5"
   ]
  },
  {
   "cell_type": "code",
   "execution_count": 45,
   "metadata": {},
   "outputs": [
    {
     "name": "stdout",
     "output_type": "stream",
     "text": [
      "sepal_length    0\n",
      "sepal_width     0\n",
      "petal_length    0\n",
      "petal_width     0\n",
      "species         0\n",
      "dtype: int64\n"
     ]
    }
   ],
   "source": [
    "Iris_url = 'https://archive.ics.uci.edu/ml/machine-learning-databases/iris/iris.data'\n",
    "column_names =['sepal_length', 'sepal_width', 'petal_length', 'petal_width','species']\n",
    "iris= pd.read_csv(Iris_url,names=column_names)\n",
    "\n",
    "missing = iris.isnull().sum()\n",
    "print(missing)"
   ]
  },
  {
   "cell_type": "markdown",
   "metadata": {},
   "source": [
    "### Exercise 6 "
   ]
  },
  {
   "cell_type": "code",
   "execution_count": 46,
   "metadata": {},
   "outputs": [
    {
     "data": {
      "text/html": [
       "<div>\n",
       "<style scoped>\n",
       "    .dataframe tbody tr th:only-of-type {\n",
       "        vertical-align: middle;\n",
       "    }\n",
       "\n",
       "    .dataframe tbody tr th {\n",
       "        vertical-align: top;\n",
       "    }\n",
       "\n",
       "    .dataframe thead th {\n",
       "        text-align: right;\n",
       "    }\n",
       "</style>\n",
       "<table border=\"1\" class=\"dataframe\">\n",
       "  <thead>\n",
       "    <tr style=\"text-align: right;\">\n",
       "      <th></th>\n",
       "      <th>name</th>\n",
       "      <th>type</th>\n",
       "      <th>hp</th>\n",
       "      <th>evolution</th>\n",
       "      <th>pokedex</th>\n",
       "    </tr>\n",
       "  </thead>\n",
       "  <tbody>\n",
       "    <tr>\n",
       "      <th>0</th>\n",
       "      <td>Bulbasaur</td>\n",
       "      <td>grass</td>\n",
       "      <td>45</td>\n",
       "      <td>Ivysaur</td>\n",
       "      <td>yes</td>\n",
       "    </tr>\n",
       "    <tr>\n",
       "      <th>1</th>\n",
       "      <td>Charmander</td>\n",
       "      <td>fire</td>\n",
       "      <td>39</td>\n",
       "      <td>Charmeleon</td>\n",
       "      <td>no</td>\n",
       "    </tr>\n",
       "    <tr>\n",
       "      <th>2</th>\n",
       "      <td>Squirtle</td>\n",
       "      <td>water</td>\n",
       "      <td>44</td>\n",
       "      <td>Wartortle</td>\n",
       "      <td>yes</td>\n",
       "    </tr>\n",
       "    <tr>\n",
       "      <th>3</th>\n",
       "      <td>Caterpie</td>\n",
       "      <td>bug</td>\n",
       "      <td>45</td>\n",
       "      <td>Metapod</td>\n",
       "      <td>no</td>\n",
       "    </tr>\n",
       "  </tbody>\n",
       "</table>\n",
       "</div>"
      ],
      "text/plain": [
       "         name   type  hp   evolution pokedex\n",
       "0   Bulbasaur  grass  45     Ivysaur     yes\n",
       "1  Charmander   fire  39  Charmeleon      no\n",
       "2    Squirtle  water  44   Wartortle     yes\n",
       "3    Caterpie    bug  45     Metapod      no"
      ]
     },
     "execution_count": 46,
     "metadata": {},
     "output_type": "execute_result"
    }
   ],
   "source": [
    "pokemon_data = {'evolution': ['Ivysaur', 'Charmeleon', 'Wartortle', 'Metapod'],\n",
    "    'hp': [45, 39, 44, 45],\n",
    "    'name': ['Bulbasaur', 'Charmander', 'Squirtle', 'Caterpie'],\n",
    "    'pokedex': ['yes', 'no', 'yes', 'no'],\n",
    "    'type': ['grass', 'fire', 'water', 'bug']}\n",
    "\n",
    "pokemon = pd.DataFrame(pokemon_data)\n",
    "pokemon = pokemon[['name', 'type', 'hp', 'evolution', 'pokedex']]\n",
    "print(pokemon)"
   ]
  },
  {
   "cell_type": "markdown",
   "metadata": {},
   "source": [
    "### Exercise 7"
   ]
  },
  {
   "cell_type": "code",
   "execution_count": 49,
   "metadata": {},
   "outputs": [
    {
     "data": {
      "text/html": [
       "<div>\n",
       "<style scoped>\n",
       "    .dataframe tbody tr th:only-of-type {\n",
       "        vertical-align: middle;\n",
       "    }\n",
       "\n",
       "    .dataframe tbody tr th {\n",
       "        vertical-align: top;\n",
       "    }\n",
       "\n",
       "    .dataframe thead th {\n",
       "        text-align: right;\n",
       "    }\n",
       "</style>\n",
       "<table border=\"1\" class=\"dataframe\">\n",
       "  <thead>\n",
       "    <tr style=\"text-align: right;\">\n",
       "      <th></th>\n",
       "      <th>Name</th>\n",
       "      <th>Year</th>\n",
       "      <th>Gender</th>\n",
       "      <th>State</th>\n",
       "      <th>Count</th>\n",
       "    </tr>\n",
       "  </thead>\n",
       "  <tbody>\n",
       "    <tr>\n",
       "      <th>0</th>\n",
       "      <td>Emma</td>\n",
       "      <td>2004</td>\n",
       "      <td>F</td>\n",
       "      <td>AK</td>\n",
       "      <td>62</td>\n",
       "    </tr>\n",
       "    <tr>\n",
       "      <th>1</th>\n",
       "      <td>Madison</td>\n",
       "      <td>2004</td>\n",
       "      <td>F</td>\n",
       "      <td>AK</td>\n",
       "      <td>48</td>\n",
       "    </tr>\n",
       "    <tr>\n",
       "      <th>2</th>\n",
       "      <td>Hannah</td>\n",
       "      <td>2004</td>\n",
       "      <td>F</td>\n",
       "      <td>AK</td>\n",
       "      <td>46</td>\n",
       "    </tr>\n",
       "    <tr>\n",
       "      <th>3</th>\n",
       "      <td>Grace</td>\n",
       "      <td>2004</td>\n",
       "      <td>F</td>\n",
       "      <td>AK</td>\n",
       "      <td>44</td>\n",
       "    </tr>\n",
       "    <tr>\n",
       "      <th>4</th>\n",
       "      <td>Emily</td>\n",
       "      <td>2004</td>\n",
       "      <td>F</td>\n",
       "      <td>AK</td>\n",
       "      <td>41</td>\n",
       "    </tr>\n",
       "    <tr>\n",
       "      <th>...</th>\n",
       "      <td>...</td>\n",
       "      <td>...</td>\n",
       "      <td>...</td>\n",
       "      <td>...</td>\n",
       "      <td>...</td>\n",
       "    </tr>\n",
       "    <tr>\n",
       "      <th>1016390</th>\n",
       "      <td>Seth</td>\n",
       "      <td>2014</td>\n",
       "      <td>M</td>\n",
       "      <td>WY</td>\n",
       "      <td>5</td>\n",
       "    </tr>\n",
       "    <tr>\n",
       "      <th>1016391</th>\n",
       "      <td>Spencer</td>\n",
       "      <td>2014</td>\n",
       "      <td>M</td>\n",
       "      <td>WY</td>\n",
       "      <td>5</td>\n",
       "    </tr>\n",
       "    <tr>\n",
       "      <th>1016392</th>\n",
       "      <td>Tyce</td>\n",
       "      <td>2014</td>\n",
       "      <td>M</td>\n",
       "      <td>WY</td>\n",
       "      <td>5</td>\n",
       "    </tr>\n",
       "    <tr>\n",
       "      <th>1016393</th>\n",
       "      <td>Victor</td>\n",
       "      <td>2014</td>\n",
       "      <td>M</td>\n",
       "      <td>WY</td>\n",
       "      <td>5</td>\n",
       "    </tr>\n",
       "    <tr>\n",
       "      <th>1016394</th>\n",
       "      <td>Waylon</td>\n",
       "      <td>2014</td>\n",
       "      <td>M</td>\n",
       "      <td>WY</td>\n",
       "      <td>5</td>\n",
       "    </tr>\n",
       "  </tbody>\n",
       "</table>\n",
       "<p>1016395 rows × 5 columns</p>\n",
       "</div>"
      ],
      "text/plain": [
       "            Name  Year Gender State  Count\n",
       "0           Emma  2004      F    AK     62\n",
       "1        Madison  2004      F    AK     48\n",
       "2         Hannah  2004      F    AK     46\n",
       "3          Grace  2004      F    AK     44\n",
       "4          Emily  2004      F    AK     41\n",
       "...          ...   ...    ...   ...    ...\n",
       "1016390     Seth  2014      M    WY      5\n",
       "1016391  Spencer  2014      M    WY      5\n",
       "1016392     Tyce  2014      M    WY      5\n",
       "1016393   Victor  2014      M    WY      5\n",
       "1016394   Waylon  2014      M    WY      5\n",
       "\n",
       "[1016395 rows x 5 columns]"
      ]
     },
     "execution_count": 49,
     "metadata": {},
     "output_type": "execute_result"
    }
   ],
   "source": [
    "baby_name_url = 'https://raw.githubusercontent.com/guipsamora/pandas_exercises/master/06_Stats/US_Baby_Names/US_Baby_Names_right.csv'\n",
    "baby_names = pd.read_csv(baby_name_url)\n",
    "\n",
    "# print(baby_names.head(10))\n",
    "\n",
    "baby_del = baby_names.drop(columns=['Unnamed: 0','Id'])\n",
    "print(baby_del)\n",
    "\n"
   ]
  },
  {
   "cell_type": "markdown",
   "metadata": {},
   "source": [
    "### Exercise 8\n"
   ]
  },
  {
   "cell_type": "code",
   "execution_count": 57,
   "metadata": {},
   "outputs": [
    {
     "name": "stdout",
     "output_type": "stream",
     "text": [
      "None\n",
      "            Total Equity  Domestic Equity  World Equity  Hybrid  Total Bond  \\\n",
      "Date                                                                          \n",
      "2012-12-05         -7426            -6060         -1367     -74        5317   \n",
      "2012-12-12         -8783            -7520         -1263     123        1818   \n",
      "2012-12-19         -5496            -5470           -26     -73         103   \n",
      "2012-12-26         -4451            -4076          -375     550        2610   \n",
      "2013-01-02        -11156            -9622         -1533    -158        2383   \n",
      "2013-01-09         14817             7995          6821    2888        9766   \n",
      "2014-04-02          3155              938          2217     265        3379   \n",
      "2014-04-09          5761             2080          3681    1482        1609   \n",
      "2014-04-16          2286              634          1652    1186         633   \n",
      "2014-04-23          3530             1392          2138    1239        1984   \n",
      "2014-04-30         -3890            -3996           106     759         888   \n",
      "2014-05-07           632            -2006          2639    -340        5493   \n",
      "2014-05-14         -1079            -2321          1242    1188        4037   \n",
      "2014-05-21           697            -1790          2487    1216        2196   \n",
      "2014-05-28         -2453            -2603           150    1108        2041   \n",
      "2014-06-04          2098            -1148          3246    1123         188   \n",
      "2014-06-11          1236            -1840          3075    1159        2112   \n",
      "2014-06-18          -922            -2204          1282    1060        4159   \n",
      "2014-06-25           -93            -1354          1262    1246        3256   \n",
      "2014-07-02         -7835            -8887          1052     636        2979   \n",
      "2014-07-09           666            -1070          1736    1006        2721   \n",
      "2014-07-30           118            -1171          1290    1024        1806   \n",
      "2014-08-06          -471            -3073          2602    -375       -8193   \n",
      "2014-08-13           320             -974          1294     496        1436   \n",
      "2014-08-20          2671              738          1933     821        4999   \n",
      "2014-08-27          -577            -2199          1623     943        3655   \n",
      "2014-09-03         -4024            -5305          1281     544        2430   \n",
      "2014-09-10          1257            -1291          2548    1055        1554   \n",
      "2014-11-05           -32            -1634          1602    -176        5813   \n",
      "2014-11-12          1464               61          1403     963        3596   \n",
      "2014-11-19         -3010            -3622           611      99        2529   \n",
      "2014-11-25         -1175            -2044           869    -157        2590   \n",
      "2015-01-07         -3913            -5438          1525   -1057       -3403   \n",
      "2015-01-14          1774              -37          1811     248        3549   \n",
      "2015-01-21          1267              856           411     790        1258   \n",
      "2015-01-28          4343             3455           888    1748        5964   \n",
      "2015-02-04          4240             3536           703     793        3237   \n",
      "2015-02-11          1268              -27          1296     959        5862   \n",
      "2015-03-04           999            -1933          2932     528        4984   \n",
      "2015-03-11          3911               -7          3918     851        1298   \n",
      "2015-03-18          1948            -1758          3706     912         452   \n",
      "2015-03-25         -1167            -4478          3311     538        2404   \n",
      "2015-04-01         -1527            -3307          1780     720       -1296   \n",
      "2015-04-08          1906            -1321          3227     250        1719   \n",
      "\n",
      "            Taxable Bond  Municipal Bond  Total  \n",
      "Date                                             \n",
      "2012-12-05          4210            1107  -2183  \n",
      "2012-12-12          1598             219  -6842  \n",
      "2012-12-19          3472           -3369  -5466  \n",
      "2012-12-26          3333            -722  -1291  \n",
      "2013-01-02          2103             280  -8931  \n",
      "2013-01-09          7311            2455  27471  \n",
      "2014-04-02          3129             250   6799  \n",
      "2014-04-09          1448             161   8852  \n",
      "2014-04-16           604              29   4105  \n",
      "2014-04-23          1453             531   6753  \n",
      "2014-04-30           559             329  -2242  \n",
      "2014-05-07          4417            1076   5785  \n",
      "2014-05-14          3141             897   4146  \n",
      "2014-05-21          1398             798   4109  \n",
      "2014-05-28          1236             805    696  \n",
      "2014-06-04          -470             658   3409  \n",
      "2014-06-11          1587             524   4506  \n",
      "2014-06-18          3740             419   4297  \n",
      "2014-06-25          2694             562   4409  \n",
      "2014-07-02          2704             276  -4220  \n",
      "2014-07-09          3203            -482   4393  \n",
      "2014-07-30          1119             687   2949  \n",
      "2014-08-06         -8658             465  -9040  \n",
      "2014-08-13           539             897   2252  \n",
      "2014-08-20          4185             814   8490  \n",
      "2014-08-27          2921             734   4021  \n",
      "2014-09-03          1768             661  -1050  \n",
      "2014-09-10           711             843   3866  \n",
      "2014-11-05          5284             529   5604  \n",
      "2014-11-12          2703             893   6023  \n",
      "2014-11-19          1758             771   -383  \n",
      "2014-11-25          1821             769   1258  \n",
      "2015-01-07         -4729            1326  -8373  \n",
      "2015-01-14          2582             967   5572  \n",
      "2015-01-21           220            1038   3315  \n",
      "2015-01-28          4689            1275  12055  \n",
      "2015-02-04          2274             963   8270  \n",
      "2015-02-11          5169             693   8089  \n",
      "2015-03-04          4309             675   6511  \n",
      "2015-03-11           999             298   6059  \n",
      "2015-03-18           258             194   3312  \n",
      "2015-03-25          1701             703   1775  \n",
      "2015-04-01         -1392              96  -2103  \n",
      "2015-04-08          1906            -187   3875  \n"
     ]
    }
   ],
   "source": [
    "Us_UR = 'https://raw.githubusercontent.com/datasets/investor-flow-of-funds-us/master/data/weekly.csv'\n",
    "investor = pd.read_csv(Us_UR)\n",
    "\n",
    "frequency = pd.infer_freq(investor)\n",
    "print(frequency)\n",
    "\n",
    "Date= investor.set_index('Date')\n",
    "print(Date)"
   ]
  },
  {
   "cell_type": "code",
   "execution_count": null,
   "metadata": {},
   "outputs": [],
   "source": []
  }
 ],
 "metadata": {
  "kernelspec": {
   "display_name": ".venv",
   "language": "python",
   "name": "python3"
  },
  "language_info": {
   "codemirror_mode": {
    "name": "ipython",
    "version": 3
   },
   "file_extension": ".py",
   "mimetype": "text/x-python",
   "name": "python",
   "nbconvert_exporter": "python",
   "pygments_lexer": "ipython3",
   "version": "3.10.11"
  },
  "orig_nbformat": 4
 },
 "nbformat": 4,
 "nbformat_minor": 2
}
